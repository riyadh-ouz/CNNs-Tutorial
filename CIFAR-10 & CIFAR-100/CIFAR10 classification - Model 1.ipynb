{
 "cells": [
  {
   "cell_type": "markdown",
   "metadata": {},
   "source": [
    "# CNNs for CIFAR-10 Classification "
   ]
  },
  {
   "cell_type": "code",
   "execution_count": null,
   "metadata": {},
   "outputs": [],
   "source": []
  },
  {
   "cell_type": "code",
   "execution_count": 1,
   "metadata": {},
   "outputs": [],
   "source": [
    "from tensorflow import keras\n",
    "from tensorflow.keras.layers import Conv2D, MaxPooling2D, Flatten, Dense, Dropout\n",
    "\n",
    "import tensorflow as tf\n",
    "import numpy as np\n",
    "import matplotlib.pyplot as plt"
   ]
  },
  {
   "cell_type": "code",
   "execution_count": null,
   "metadata": {},
   "outputs": [],
   "source": []
  },
  {
   "cell_type": "code",
   "execution_count": null,
   "metadata": {},
   "outputs": [],
   "source": []
  },
  {
   "cell_type": "code",
   "execution_count": 2,
   "metadata": {},
   "outputs": [],
   "source": [
    "# Loading the datasets\n",
    "data_train = np.load(r\"cifar_10_train_data.npz\")\n",
    "data_val = np.load(r\"cifar_10_validation_data.npz\")\n",
    "data_test = np.load(r\"cifar_10_test_data.npz\")"
   ]
  },
  {
   "cell_type": "code",
   "execution_count": 3,
   "metadata": {},
   "outputs": [],
   "source": [
    "# Extracting the arrays from the imported data\n",
    "images_train = data_train['inputs']\n",
    "labels_train = data_train['targets']\n",
    "\n",
    "images_val = data_val['inputs']\n",
    "labels_val = data_val['targets']\n",
    "\n",
    "images_test = data_test['inputs']\n",
    "labels_test = data_test['targets']"
   ]
  },
  {
   "cell_type": "code",
   "execution_count": 4,
   "metadata": {},
   "outputs": [],
   "source": [
    "# Scaling the pixel values of all images\n",
    "images_train = images_train/255.0\n",
    "images_val = images_val/255.0\n",
    "images_test = images_test/255.0"
   ]
  },
  {
   "cell_type": "code",
   "execution_count": 5,
   "metadata": {},
   "outputs": [],
   "source": [
    "# Flipping the images right to left\n",
    "images_train_flipped = np.flip(images_train, axis=2)\n",
    "images_val_flipped = np.flip(images_val, axis=2)\n",
    "images_test_flipped = np.flip(images_test, axis=2)\n",
    "\n",
    "# Combining the flipped dataset with the original one to obtain the new dataset\n",
    "images_train = np.concatenate( (images_train, images_train_flipped) )\n",
    "labels_train = np.concatenate( (labels_train, labels_train) )\n",
    "\n",
    "images_val = np.concatenate( (images_val, images_val_flipped) )\n",
    "labels_val = np.concatenate( (labels_val, labels_val) )\n",
    "\n",
    "images_test = np.concatenate( (images_test, images_test_flipped) )\n",
    "labels_test = np.concatenate( (labels_test, labels_test) )"
   ]
  },
  {
   "cell_type": "code",
   "execution_count": null,
   "metadata": {},
   "outputs": [],
   "source": []
  },
  {
   "cell_type": "code",
   "execution_count": null,
   "metadata": {},
   "outputs": [],
   "source": []
  },
  {
   "cell_type": "code",
   "execution_count": 6,
   "metadata": {},
   "outputs": [
    {
     "name": "stdout",
     "output_type": "stream",
     "text": [
      "Model: \"sequential\"\n",
      "____________________________________________________________________________________________________\n",
      "Layer (type)                                 Output Shape                            Param #        \n",
      "====================================================================================================\n",
      "block1_conv1 (Conv2D)                        (None, 32, 32, 64)                      1792           \n",
      "____________________________________________________________________________________________________\n",
      "block1_pool (MaxPooling2D)                   (None, 16, 16, 64)                      0              \n",
      "____________________________________________________________________________________________________\n",
      "block2_conv1 (Conv2D)                        (None, 16, 16, 128)                     73856          \n",
      "____________________________________________________________________________________________________\n",
      "block2_pool (MaxPooling2D)                   (None, 8, 8, 128)                       0              \n",
      "____________________________________________________________________________________________________\n",
      "block3_conv1 (Conv2D)                        (None, 8, 8, 256)                       295168         \n",
      "____________________________________________________________________________________________________\n",
      "block3_conv2 (Conv2D)                        (None, 8, 8, 256)                       590080         \n",
      "____________________________________________________________________________________________________\n",
      "block3_pool (MaxPooling2D)                   (None, 4, 4, 256)                       0              \n",
      "____________________________________________________________________________________________________\n",
      "flatten (Flatten)                            (None, 4096)                            0              \n",
      "____________________________________________________________________________________________________\n",
      "fc1 (Dense)                                  (None, 1024)                            4195328        \n",
      "____________________________________________________________________________________________________\n",
      "dropout1 (Dropout)                           (None, 1024)                            0              \n",
      "____________________________________________________________________________________________________\n",
      "predictions (Dense)                          (None, 10)                              10250          \n",
      "====================================================================================================\n",
      "Total params: 5,166,474\n",
      "Trainable params: 5,166,474\n",
      "Non-trainable params: 0\n",
      "____________________________________________________________________________________________________\n"
     ]
    }
   ],
   "source": [
    "# outline the model\n",
    "\n",
    "output_size = 10\n",
    "\n",
    "model = keras.Sequential([\n",
    "    \n",
    "    Conv2D(64, (3, 3), activation='relu', padding='same', name='block1_conv1', input_shape=(32, 32, 3)),\n",
    "    MaxPooling2D((2, 2), strides=(2, 2), name='block1_pool'),\n",
    "    \n",
    "    Conv2D(128, (3, 3), activation='relu', padding='same', name='block2_conv1'),\n",
    "    MaxPooling2D((2, 2), strides=(2, 2), name='block2_pool'),\n",
    "    \n",
    "    Conv2D(256, (3, 3), activation='relu', padding='same', name='block3_conv1'),\n",
    "    Conv2D(256, (3, 3), activation='relu', padding='same', name='block3_conv2'),\n",
    "    MaxPooling2D((2, 2), strides=(2, 2), name='block3_pool'),\n",
    "    \n",
    "    Flatten(name='flatten'),\n",
    "    \n",
    "    Dense(1024, activation='relu', name='fc1'),\n",
    "    Dropout(0.25, name='dropout1'),\n",
    "    \n",
    "    Dense(output_size, name='predictions'),\n",
    "\n",
    "])\n",
    "\n",
    "model.summary(line_length = 100)\n"
   ]
  },
  {
   "cell_type": "code",
   "execution_count": null,
   "metadata": {},
   "outputs": [],
   "source": []
  },
  {
   "cell_type": "code",
   "execution_count": 7,
   "metadata": {},
   "outputs": [
    {
     "name": "stdout",
     "output_type": "stream",
     "text": [
      "Epoch 1/15\n",
      "704/704 [==============================] - 494s 684ms/step - loss: 1.2966 - accuracy: 0.5328 - val_loss: 0.9621 - val_accuracy: 0.6671\n",
      "Epoch 2/15\n",
      "704/704 [==============================] - 536s 762ms/step - loss: 0.7859 - accuracy: 0.7249 - val_loss: 0.7605 - val_accuracy: 0.7313\n",
      "Epoch 3/15\n",
      "704/704 [==============================] - 450s 639ms/step - loss: 0.6014 - accuracy: 0.7895 - val_loss: 0.6546 - val_accuracy: 0.7719\n",
      "Epoch 4/15\n",
      "704/704 [==============================] - 438s 622ms/step - loss: 0.4732 - accuracy: 0.8328 - val_loss: 0.5979 - val_accuracy: 0.7955\n",
      "Epoch 5/15\n",
      "704/704 [==============================] - 459s 652ms/step - loss: 0.3678 - accuracy: 0.8708 - val_loss: 0.6050 - val_accuracy: 0.8059\n",
      "Epoch 6/15\n",
      "704/704 [==============================] - 457s 650ms/step - loss: 0.2834 - accuracy: 0.9000 - val_loss: 0.6570 - val_accuracy: 0.7993\n"
     ]
    }
   ],
   "source": [
    "# Defining constants\n",
    "EPOCHS = 15\n",
    "BATCH_SIZE = 128\n",
    "\n",
    "loss_fn = tf.keras.losses.SparseCategoricalCrossentropy(from_logits=True)\n",
    "\n",
    "model.compile(optimizer='adam', loss=loss_fn, metrics=['accuracy'])\n",
    "\n",
    "early_stopping = tf.keras.callbacks.EarlyStopping(monitor = 'val_loss',\n",
    "                                                  mode = 'auto',\n",
    "                                                  min_delta = 0,\n",
    "                                                  patience = 2,\n",
    "                                                  verbose = 0,\n",
    "                                                  restore_best_weights = True,\n",
    "                                                 )\n",
    "\n",
    "# Training the model\n",
    "history = model.fit(images_train,\n",
    "                    labels_train,\n",
    "                    epochs = EPOCHS,\n",
    "                    batch_size = BATCH_SIZE,\n",
    "                    callbacks = [early_stopping],\n",
    "                    validation_data = (images_val,labels_val),\n",
    "                    verbose = 1)"
   ]
  },
  {
   "cell_type": "code",
   "execution_count": null,
   "metadata": {},
   "outputs": [],
   "source": []
  },
  {
   "cell_type": "code",
   "execution_count": null,
   "metadata": {},
   "outputs": [],
   "source": []
  },
  {
   "cell_type": "code",
   "execution_count": 11,
   "metadata": {},
   "outputs": [
    {
     "data": {
      "image/png": "[encoded data removed]",
      "text/plain": [
       "<Figure size 432x288 with 1 Axes>"
      ]
     },
     "metadata": {
      "needs_background": "light"
     },
     "output_type": "display_data"
    }
   ],
   "source": [
    "# We can use our variable history\n",
    "\n",
    "accuracy = history.history['accuracy']\n",
    "loss = history.history['loss']\n",
    "\n",
    "val_accuracy = history.history['val_accuracy']\n",
    "val_loss = history.history['val_loss']\n",
    "\n",
    "epochs = range(len(accuracy))\n",
    "\n",
    "plt.figure()\n",
    "plt.plot(epochs, accuracy, 'blue', label='Training Accuracy')\n",
    "plt.plot(epochs, val_accuracy, 'red', label='Val Accuracy')\n",
    "plt.title('Training VS Validation Accuracy')\n",
    "plt.legend()\n",
    "plt.show()"
   ]
  },
  {
   "cell_type": "code",
   "execution_count": null,
   "metadata": {},
   "outputs": [],
   "source": []
  },
  {
   "cell_type": "code",
   "execution_count": null,
   "metadata": {},
   "outputs": [],
   "source": []
  },
  {
   "cell_type": "code",
   "execution_count": 9,
   "metadata": {},
   "outputs": [
    {
     "name": "stdout",
     "output_type": "stream",
     "text": [
      "625/625 [==============================] - 67s 108ms/step - loss: 0.6278 - accuracy: 0.7860\n"
     ]
    },
    {
     "data": {
      "text/plain": [
       "[0.6278273463249207, 0.7860000133514404]"
      ]
     },
     "execution_count": 9,
     "metadata": {},
     "output_type": "execute_result"
    }
   ],
   "source": [
    "model.evaluate(images_test, labels_test)"
   ]
  },
  {
   "cell_type": "code",
   "execution_count": null,
   "metadata": {},
   "outputs": [],
   "source": []
  },
  {
   "cell_type": "code",
   "execution_count": 10,
   "metadata": {},
   "outputs": [
    {
     "name": "stdout",
     "output_type": "stream",
     "text": [
      "INFO:tensorflow:Assets written to: saved_models\\Model 1\\assets\n"
     ]
    }
   ],
   "source": [
    "model.save(r\"saved_models\\Model 1\")"
   ]
  },
  {
   "cell_type": "code",
   "execution_count": null,
   "metadata": {},
   "outputs": [],
   "source": []
  },
  {
   "cell_type": "code",
   "execution_count": null,
   "metadata": {},
   "outputs": [],
   "source": []
  },
  {
   "cell_type": "code",
   "execution_count": null,
   "metadata": {},
   "outputs": [],
   "source": []
  }
 ],
 "metadata": {
  "kernelspec": {
   "display_name": "Python 3",
   "language": "python",
   "name": "python3"
  },
  "language_info": {
   "codemirror_mode": {
    "name": "ipython",
    "version": 3
   },
   "file_extension": ".py",
   "mimetype": "text/x-python",
   "name": "python",
   "nbconvert_exporter": "python",
   "pygments_lexer": "ipython3",
   "version": "3.9.6"
  }
 },
 "nbformat": 4,
 "nbformat_minor": 2
}

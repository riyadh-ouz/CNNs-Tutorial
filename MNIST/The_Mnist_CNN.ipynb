{
 "cells": [
  {
   "cell_type": "markdown",
   "metadata": {},
   "source": [
    "# Deep Neural Network for MNIST Classification"
   ]
  },
  {
   "cell_type": "markdown",
   "metadata": {},
   "source": [
    "## Import the relevant packages"
   ]
  },
  {
   "cell_type": "code",
   "execution_count": 1,
   "metadata": {},
   "outputs": [],
   "source": [
    "import io\n",
    "import itertools\n",
    "import datetime\n",
    "\n",
    "import numpy as np\n",
    "from sklearn.metrics import confusion_matrix\n",
    "import matplotlib.pyplot as plt\n",
    "\n",
    "import tensorflow as tf\n",
    "from tensorflow import keras"
   ]
  },
  {
   "cell_type": "code",
   "execution_count": 2,
   "metadata": {},
   "outputs": [],
   "source": [
    "# It's a best practise to define some constants/hyperparameters in a visible place\n",
    "\n",
    "max_epochs = 20\n",
    "batch_size = 128 # A value that's a power of 2\n",
    "steps_per_epoch = 100\n",
    "output_size = 10"
   ]
  },
  {
   "cell_type": "markdown",
   "metadata": {},
   "source": [
    "## Data"
   ]
  },
  {
   "cell_type": "markdown",
   "metadata": {},
   "source": [
    "### Load the data from keras.datasets"
   ]
  },
  {
   "cell_type": "code",
   "execution_count": 3,
   "metadata": {},
   "outputs": [],
   "source": [
    "mnist_dataset = keras.datasets.mnist.load_data()\n",
    "mnist_train, mnist_test = mnist_dataset"
   ]
  },
  {
   "cell_type": "markdown",
   "metadata": {},
   "source": [
    "### Scaling"
   ]
  },
  {
   "cell_type": "code",
   "execution_count": 4,
   "metadata": {},
   "outputs": [],
   "source": [
    "scaled_train_inputs, train_targets = mnist_train[0] / 255., mnist_train[1]\n",
    "scaled_test_inputs, test_targets = mnist_test[0] / 255., mnist_test[1]"
   ]
  },
  {
   "cell_type": "markdown",
   "metadata": {},
   "source": [
    "### Shuffling"
   ]
  },
  {
   "cell_type": "code",
   "execution_count": 5,
   "metadata": {},
   "outputs": [],
   "source": [
    "#train data\n",
    "shuffled_indices = np.arange(scaled_train_inputs.shape[0])\n",
    "np.random.shuffle(shuffled_indices)\n",
    "\n",
    "shuffled_train_inputs, shuffled_train_targets = scaled_train_inputs[shuffled_indices], train_targets[shuffled_indices]\n",
    "\n",
    "#test data\n",
    "shuffled_indices = np.arange(scaled_test_inputs.shape[0])\n",
    "np.random.shuffle(shuffled_indices)\n",
    "\n",
    "shuffled_test_inputs, shuffled_test_targets = scaled_test_inputs[shuffled_indices], test_targets[shuffled_indices]"
   ]
  },
  {
   "cell_type": "markdown",
   "metadata": {},
   "source": [
    "### Create validation data "
   ]
  },
  {
   "cell_type": "code",
   "execution_count": 6,
   "metadata": {},
   "outputs": [
    {
     "name": "stdout",
     "output_type": "stream",
     "text": [
      "(54000, 28, 28, 1)\n"
     ]
    }
   ],
   "source": [
    "num_validation_samples = int(0.1 * shuffled_train_inputs.shape[0])\n",
    "\n",
    "train_inputs = shuffled_train_inputs[num_validation_samples:].reshape((-1, 28, 28, 1))\n",
    "train_targets = shuffled_train_targets[num_validation_samples:]\n",
    "\n",
    "validation_inputs = shuffled_train_inputs[:num_validation_samples].reshape((-1, 28, 28, 1))\n",
    "validation_targets = shuffled_train_targets[:num_validation_samples]\n",
    "\n",
    "test_inputs, test_targets = shuffled_test_inputs.reshape((-1, 28, 28, 1)), shuffled_test_targets\n",
    "\n",
    "print(train_inputs.shape)"
   ]
  },
  {
   "cell_type": "markdown",
   "metadata": {},
   "source": [
    "## Outline the model "
   ]
  },
  {
   "cell_type": "code",
   "execution_count": 7,
   "metadata": {},
   "outputs": [],
   "source": [
    "model = keras.Sequential([\n",
    "    keras.layers.Conv2D(50, 5, activation='relu', input_shape=(28, 28, 1)),\n",
    "    keras.layers.MaxPooling2D(pool_size=(2, 2)), # the stride is 2 by default\n",
    "    keras.layers.Conv2D(50, 3, activation='relu'),\n",
    "    keras.layers.MaxPooling2D(pool_size=(2, 2)),\n",
    "    keras.layers.Flatten(),\n",
    "    keras.layers.Dense(output_size)\n",
    "])\n"
   ]
  },
  {
   "cell_type": "code",
   "execution_count": 8,
   "metadata": {},
   "outputs": [
    {
     "name": "stdout",
     "output_type": "stream",
     "text": [
      "Model: \"sequential\"\n",
      "____________________________________________________________________________________________________\n",
      "Layer (type)                                 Output Shape                            Param #        \n",
      "====================================================================================================\n",
      "conv2d (Conv2D)                              (None, 24, 24, 50)                      1300           \n",
      "____________________________________________________________________________________________________\n",
      "max_pooling2d (MaxPooling2D)                 (None, 12, 12, 50)                      0              \n",
      "____________________________________________________________________________________________________\n",
      "conv2d_1 (Conv2D)                            (None, 10, 10, 50)                      22550          \n",
      "____________________________________________________________________________________________________\n",
      "max_pooling2d_1 (MaxPooling2D)               (None, 5, 5, 50)                        0              \n",
      "____________________________________________________________________________________________________\n",
      "flatten (Flatten)                            (None, 1250)                            0              \n",
      "____________________________________________________________________________________________________\n",
      "dense (Dense)                                (None, 10)                              12510          \n",
      "====================================================================================================\n",
      "Total params: 36,360\n",
      "Trainable params: 36,360\n",
      "Non-trainable params: 0\n",
      "____________________________________________________________________________________________________\n"
     ]
    }
   ],
   "source": [
    "model.summary(line_length = 100)"
   ]
  },
  {
   "cell_type": "markdown",
   "metadata": {},
   "source": [
    "### Choose the optimizer and the loss function"
   ]
  },
  {
   "cell_type": "code",
   "execution_count": 9,
   "metadata": {},
   "outputs": [],
   "source": [
    "# Defining the loss function\n",
    "\n",
    "# In general, our model needs to output probabilities of each class, \n",
    "# which can be achieved with a softmax activation in the last dense layer\n",
    "\n",
    "# However, when using the softmax activation, the loss can rarely be unstable\n",
    "\n",
    "# Thus, instead of incorporating the softmax into the model itself,\n",
    "# we use a loss calculation that automatically corrects for the missing softmax\n",
    "\n",
    "# That is the reason for 'from_logits=True'\n",
    "loss_fn = tf.keras.losses.SparseCategoricalCrossentropy(from_logits=True)"
   ]
  },
  {
   "cell_type": "code",
   "execution_count": 10,
   "metadata": {},
   "outputs": [],
   "source": [
    "model.compile(optimizer='adam', loss=loss_fn, metrics=['accuracy'])"
   ]
  },
  {
   "cell_type": "markdown",
   "metadata": {},
   "source": [
    "### Training"
   ]
  },
  {
   "cell_type": "markdown",
   "metadata": {},
   "source": [
    "#### Logging the training process data to use later in tensorboard"
   ]
  },
  {
   "cell_type": "code",
   "execution_count": 11,
   "metadata": {},
   "outputs": [],
   "source": [
    "# The logging directory\n",
    "log_dir = 'logs\\\\fit\\\\' + datetime.datetime.now().strftime('%Y%m%d-%H%M%S')\n",
    "\n",
    "# Log the confusion matrix as an image\n",
    "\n",
    "def plot_confusion_matrix(cm, class_names, normalized=True):\n",
    "    \n",
    "    \"\"\"\n",
    "    Returns a matplotlib figure containing the plotted confusion matrix.\n",
    "\n",
    "    Args:\n",
    "    cm (array, shape = [n, n]): a confusion matrix of integer classes\n",
    "    class_names (array, shape = [n]): String names of the integer classes\n",
    "    \"\"\"\n",
    "    \n",
    "    figure = plt.figure(figsize=(12, 12))\n",
    "    \n",
    "    # Plot the image\n",
    "    plt.imshow(cm, interpolation='nearest', cmap=plt.cm.Blues)\n",
    "    plt.title(\"Confusion matrix\")\n",
    "    \n",
    "    # Plot the bar color associated with the image\n",
    "    plt.colorbar()\n",
    "    \n",
    "    tick_marks = np.arange(len(class_names))\n",
    "    # class_names are the labels to place at the given ticks locations.\n",
    "    plt.xticks(tick_marks, class_names, rotation=45)\n",
    "    plt.yticks(tick_marks, class_names)\n",
    "\n",
    "    \n",
    "    # Normalize the confusion matrix.\n",
    "    if not normalized:\n",
    "        # cm.sum(axis=1)[:, np.newaxis] : reshapes the vector (1D array) to a matrix (2D array)\n",
    "        # It's the same as : cm.sum(axis=1, keepdims=True)\n",
    "        cm = cm.astype('float') / cm.sum(axis=1)[:, np.newaxis]\n",
    "        \n",
    "    cm = np.around(cm.astype('float'), decimals=2)\n",
    "\n",
    "\n",
    "    # Use white text if squares are dark; otherwise black.\n",
    "    threshold = cm.max() / 2.\n",
    "    \n",
    "    # Product of {0-9} * {0-9} = {(0, 0), (0, 1)...}\n",
    "    for i, j in itertools.product(range(cm.shape[0]), range(cm.shape[1])):\n",
    "        \n",
    "        color = \"white\" if cm[i, j] > threshold else \"black\"\n",
    "        plt.text(j, i, cm[i, j], horizontalalignment=\"center\", color=color)\n",
    "\n",
    "        \n",
    "    plt.tight_layout() # Adjust the padding\n",
    "    plt.ylabel('True label')\n",
    "    plt.xlabel('Predicted label')\n",
    "    \n",
    "    return figure\n",
    "\n",
    "def plot_to_image(figure):\n",
    "    \"\"\"Converts the matplotlib plot specified with 'figure' to a PNG image and returns it,\n",
    "    The supplied figure is closed and inaccessible after this call.\n",
    "    \"\"\"\n",
    "    \n",
    "    # Save the plot to a PNG in memory.\n",
    "    buf = io.BytesIO()\n",
    "    plt.savefig(buf, format='png')\n",
    "    \n",
    "    # Closing the figure prevents it from being displayed directly inside the notebook.\n",
    "    plt.close()\n",
    "    \n",
    "    # Convert the PNG buffer to TF image.\n",
    "    buf.seek(0)\n",
    "    image = tf.image.decode_png(buf.getvalue(), channels=4)\n",
    "    \n",
    "    # Add the batch dimension.\n",
    "    image = tf.expand_dims(image, 0)\n",
    "    \n",
    "    return image\n",
    "\n",
    "# Logging the cm's image to tensorboard\n",
    "\n",
    "# Define a file writer variable for the logging purposes\n",
    "file_writer_cm = tf.summary.create_file_writer(log_dir + '/cm')\n",
    "\n",
    "# The lambda callback to be called should have the (epoch, logs) parameters\n",
    "def log_confusion_matrix(epoch, logs):\n",
    "    \n",
    "    # Use the model to predict the values from the validation dataset.\n",
    "    predictions_raw = model.predict(validation_inputs)\n",
    "\n",
    "    # np.argmax() returns the index of the maximum value of an array (in our case the classe with the highest probability).\n",
    "    # NB: also np.argmin() returns the index of minimum\n",
    "    predictions = np.argmax(predictions_raw, axis=1)\n",
    "\n",
    "    # Calculate the confusion matrix from the sklearn.metrics\n",
    "    # Notice that the matrix is normalized\n",
    "    cm = confusion_matrix(validation_targets, predictions, normalize='true')\n",
    "\n",
    "    # Log the confusion matrix as an image.\n",
    "    \n",
    "    figure = plot_confusion_matrix(cm, ['0', '1', '2', '3', '4', '5', '6', '7', '8', '9'], True)\n",
    "    cm_image = plot_to_image(figure)\n",
    "    \n",
    "    with file_writer_cm.as_default():\n",
    "        tf.summary.image('Confusion Matrix', cm_image, step=epoch)\n",
    "        "
   ]
  },
  {
   "cell_type": "code",
   "execution_count": 12,
   "metadata": {},
   "outputs": [],
   "source": [
    "# The tensorboard callback\n",
    "tensorboard_callback = tf.keras.callbacks.TensorBoard(log_dir=log_dir, histogram_freq=1, profile_batch=0)\n",
    "\n",
    "# The confusion matrix callback\n",
    "cm_callback = tf.keras.callbacks.LambdaCallback(on_epoch_end=log_confusion_matrix)"
   ]
  },
  {
   "cell_type": "markdown",
   "metadata": {},
   "source": [
    "#### The training process"
   ]
  },
  {
   "cell_type": "code",
   "execution_count": 13,
   "metadata": {},
   "outputs": [],
   "source": [
    "early_stopping = keras.callbacks.EarlyStopping(\n",
    "    monitor='val_loss',\n",
    "    mode='auto',\n",
    "    min_delta=0,\n",
    "    patience=2,\n",
    "    verbose=0,\n",
    "    restore_best_weights=True\n",
    ")"
   ]
  },
  {
   "cell_type": "code",
   "execution_count": 14,
   "metadata": {},
   "outputs": [
    {
     "name": "stdout",
     "output_type": "stream",
     "text": [
      "Epoch 1/20\n",
      "422/422 - 40s - loss: 0.2622 - accuracy: 0.9243 - val_loss: 0.0852 - val_accuracy: 0.9743\n",
      "Epoch 2/20\n",
      "422/422 - 38s - loss: 0.0708 - accuracy: 0.9789 - val_loss: 0.0573 - val_accuracy: 0.9818\n",
      "Epoch 3/20\n",
      "422/422 - 38s - loss: 0.0514 - accuracy: 0.9841 - val_loss: 0.0474 - val_accuracy: 0.9843\n",
      "Epoch 4/20\n",
      "422/422 - 38s - loss: 0.0417 - accuracy: 0.9869 - val_loss: 0.0383 - val_accuracy: 0.9882\n",
      "Epoch 5/20\n",
      "422/422 - 38s - loss: 0.0347 - accuracy: 0.9899 - val_loss: 0.0389 - val_accuracy: 0.9867\n",
      "Epoch 6/20\n",
      "422/422 - 38s - loss: 0.0293 - accuracy: 0.9911 - val_loss: 0.0309 - val_accuracy: 0.9893\n",
      "Epoch 7/20\n",
      "422/422 - 38s - loss: 0.0258 - accuracy: 0.9919 - val_loss: 0.0335 - val_accuracy: 0.9877\n",
      "Epoch 8/20\n",
      "422/422 - 38s - loss: 0.0237 - accuracy: 0.9925 - val_loss: 0.0309 - val_accuracy: 0.9900\n"
     ]
    }
   ],
   "source": [
    "history = model.fit(\n",
    "    train_inputs,\n",
    "    train_targets,\n",
    "    \n",
    "    # NB: We can specify the steps_per_epoch instead of the batch_size\n",
    "    # n_samples = steps_per_epoch * batch_size\n",
    "    #steps_per_epoch=steps_per_epoch,\n",
    "    batch_size=batch_size,\n",
    "    \n",
    "    epochs=max_epochs,\n",
    "    \n",
    "    # NB: the early_stopping callback should always be the last element in the list\n",
    "    callbacks=[tensorboard_callback, cm_callback, early_stopping],\n",
    "    \n",
    "    validation_data=(validation_inputs, validation_targets),\n",
    "    verbose=2\n",
    ")"
   ]
  },
  {
   "cell_type": "markdown",
   "metadata": {},
   "source": [
    "### Visualizing with Matplotlib"
   ]
  },
  {
   "cell_type": "code",
   "execution_count": 15,
   "metadata": {},
   "outputs": [
    {
     "data": {
      "image/png": "[encoded data removed]",
      "text/plain": [
       "<Figure size 432x288 with 1 Axes>"
      ]
     },
     "metadata": {
      "needs_background": "light"
     },
     "output_type": "display_data"
    }
   ],
   "source": [
    "# We can use our variable history\n",
    "accuracy = history.history['accuracy']\n",
    "loss = history.history['loss']\n",
    "val_accuracy = history.history['val_accuracy']\n",
    "val_loss = history.history['val_loss']\n",
    "\n",
    "epochs = range(len(accuracy))\n",
    "\n",
    "plt.figure()\n",
    "plt.plot(epochs, accuracy, 'blue', label='Training Accuracy')\n",
    "plt.plot(epochs, val_accuracy, 'red', label='Val Accuracy')\n",
    "plt.title('Training VS Validation Accuracy')\n",
    "plt.legend()\n",
    "plt.show()"
   ]
  },
  {
   "cell_type": "markdown",
   "metadata": {},
   "source": [
    "### Visualizing with TensorBoard"
   ]
  },
  {
   "cell_type": "code",
   "execution_count": 17,
   "metadata": {},
   "outputs": [
    {
     "name": "stdout",
     "output_type": "stream",
     "text": [
      "The tensorboard extension is already loaded. To reload it, use:\n",
      "  %reload_ext tensorboard\n"
     ]
    },
    {
     "data": {
      "text/plain": [
       "Reusing TensorBoard on port 6006 (pid 2292), started 0:01:10 ago. (Use '!kill 2292' to kill it.)"
      ]
     },
     "metadata": {},
     "output_type": "display_data"
    },
    {
     "data": {
      "text/html": [
       "\n",
       "      <iframe id=\"tensorboard-frame-df7ee9ade194b2a5\" width=\"100%\" height=\"800\" frameborder=\"0\">\n",
       "      </iframe>\n",
       "      <script>\n",
       "        (function() {\n",
       "          const frame = document.getElementById(\"tensorboard-frame-df7ee9ade194b2a5\");\n",
       "          const url = new URL(\"/\", window.location);\n",
       "          const port = 6006;\n",
       "          if (port) {\n",
       "            url.port = port;\n",
       "          }\n",
       "          frame.src = url;\n",
       "        })();\n",
       "      </script>\n",
       "    "
      ],
      "text/plain": [
       "<IPython.core.display.HTML object>"
      ]
     },
     "metadata": {},
     "output_type": "display_data"
    }
   ],
   "source": [
    "# Loading the TensorBoard extension\n",
    "%load_ext tensorboard\n",
    "\n",
    "# Loading the logged data that TensorBoard for visualizing the training process\n",
    "%tensorboard --logdir 'logs/fit'\n",
    "\n",
    "# On windows we should to kill the task and clear the temporary data used by tensorboard with the commands:\n",
    "\n",
    "# taskkill /im tensorboard.exe /f\n",
    "# del /q %TMP%\\.tensorboard-info\\*"
   ]
  },
  {
   "cell_type": "markdown",
   "metadata": {},
   "source": [
    "## Test the model"
   ]
  },
  {
   "cell_type": "code",
   "execution_count": 18,
   "metadata": {},
   "outputs": [
    {
     "name": "stdout",
     "output_type": "stream",
     "text": [
      "313/313 [==============================] - 2s 7ms/step - loss: 0.0275 - accuracy: 0.9910\n"
     ]
    }
   ],
   "source": [
    "test_loss, test_accuracy = model.evaluate(test_inputs, test_targets)"
   ]
  },
  {
   "cell_type": "code",
   "execution_count": 19,
   "metadata": {},
   "outputs": [
    {
     "name": "stdout",
     "output_type": "stream",
     "text": [
      "\n",
      "Test loss: 0.03, Test accuracy: 99.10%\n"
     ]
    }
   ],
   "source": [
    "print('\\nTest loss: {0:.2f}, Test accuracy: {1:.2f}%'.format(test_loss, test_accuracy*100.))"
   ]
  },
  {
   "cell_type": "markdown",
   "metadata": {},
   "source": [
    "### Plot some test images with the corresponding labels"
   ]
  },
  {
   "cell_type": "code",
   "execution_count": 20,
   "metadata": {},
   "outputs": [
    {
     "data": {
      "image/png": "[encoded data removed]",
      "text/plain": [
       "<Figure size 216x216 with 1 Axes>"
      ]
     },
     "metadata": {
      "needs_background": "light"
     },
     "output_type": "display_data"
    },
    {
     "name": "stdout",
     "output_type": "stream",
     "text": [
      "Label: 0\n"
     ]
    }
   ],
   "source": [
    "test_images = test_inputs.reshape((-1, 28, 28))\n",
    "test_labels = test_targets\n",
    "\n",
    "# an arbitrary chosen image\n",
    "i = 183\n",
    "\n",
    "plt.figure(figsize=(3, 3))\n",
    "plt.axis('off')\n",
    "plt.imshow(test_images[i], cmap='gray', aspect='auto')\n",
    "plt.show()\n",
    "\n",
    "print('Label: {}'.format(test_labels[i]))"
   ]
  },
  {
   "cell_type": "markdown",
   "metadata": {},
   "source": [
    "### Plot the model predictions"
   ]
  },
  {
   "cell_type": "code",
   "execution_count": 21,
   "metadata": {},
   "outputs": [
    {
     "data": {
      "text/plain": [
       "<BarContainer object of 10 artists>"
      ]
     },
     "execution_count": 21,
     "metadata": {},
     "output_type": "execute_result"
    },
    {
     "data": {
      "image/png": "[encoded data removed]",
      "text/plain": [
       "<Figure size 864x360 with 1 Axes>"
      ]
     },
     "metadata": {
      "needs_background": "light"
     },
     "output_type": "display_data"
    }
   ],
   "source": [
    "# Obtain the model's predictions (logits)\n",
    "predictions = model.predict(test_inputs[i: i+1])\n",
    "\n",
    "# Convert the predictions into probabilities (recall that we incorporated the softmax activation into the loss function)\n",
    "probabilities = tf.nn.softmax(predictions).numpy() * 100 # .numpy() to convert the probabilities into a numpy array\n",
    "\n",
    "# Create a bar chart to plot the probabilities for each class\n",
    "plt.figure(figsize=(12, 5))\n",
    "plt.bar(x=[0,1,2,3,4,5,6,7,8,9], height=probabilities[0], tick_label=[\"0\",\"1\",\"2\",\"3\",\"4\",\"5\",\"6\",\"7\",\"8\",\"9\"])"
   ]
  }
 ],
 "metadata": {
  "kernelspec": {
   "display_name": "Python 3",
   "language": "python",
   "name": "python3"
  },
  "language_info": {
   "codemirror_mode": {
    "name": "ipython",
    "version": 3
   },
   "file_extension": ".py",
   "mimetype": "text/x-python",
   "name": "python",
   "nbconvert_exporter": "python",
   "pygments_lexer": "ipython3",
   "version": "3.9.6"
  }
 },
 "nbformat": 4,
 "nbformat_minor": 4
}
